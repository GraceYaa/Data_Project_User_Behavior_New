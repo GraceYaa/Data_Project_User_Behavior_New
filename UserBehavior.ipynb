{
 "cells": [
  {
   "cell_type": "markdown",
   "metadata": {},
   "source": [
    "# 淘宝用户分析"
   ]
  },
  {
   "cell_type": "markdown",
   "metadata": {},
   "source": [
    "## 项目背景"
   ]
  },
  {
   "cell_type": "markdown",
   "metadata": {},
   "source": [
    "### 数据来源\n",
    "https://tianchi.aliyun.com/dataset/dataDetail?dataId=649&userId=1"
   ]
  },
  {
   "cell_type": "markdown",
   "metadata": {},
   "source": [
    "### 数据背景\n",
    "UserBehavior是阿里巴巴提供的一个淘宝用户行为数据集，用于隐式反馈推荐问题的研究。\n",
    "\n",
    "本数据集包含了2017年11月25日至2017年12月3日之间，有行为的约一百万随机用户的所有行为（行为包括点击、购买、加购、喜欢）。数据集的组织形式和MovieLens-20M类似，即数据集的每一行表示一条用户行为，由用户ID、商品ID、商品类目ID、行为类型和时间戳组成，并以逗号分隔。"
   ]
  },
  {
   "cell_type": "markdown",
   "metadata": {},
   "source": [
    "### 数据概览\n",
    "| 列名称     | 说明                                               |\n",
    "| ---------- | -------------------------------------------------- |\n",
    "| 用户ID     | 整数类型，序列化后的用户ID                         |\n",
    "| 商品ID     | 整数类型，序列化后的商品ID                         |\n",
    "| 商品类目ID | 整数类型，序列化后的商品所属类目ID                 |\n",
    "| 行为类型   | 字符串，枚举类型，包括('pv', 'buy', 'cart', 'fav') |\n",
    "| 时间戳     | 行为发生的时间戳                                   |\n",
    "\n",
    "| 行为类型 | 说明                     |\n",
    "| -------- | ------------------------ |\n",
    "| pv       | 商品详情页pv，等价于点击 |\n",
    "| buy      | 商品购买                 |\n",
    "| cart     | 将商品加入购物车         |\n",
    "| fav      | 收藏商品                 |\n",
    "\n",
    "| 维度         | 数量        |\n",
    "| ------------ | ----------- |\n",
    "| 用户数量     | 987,994     |\n",
    "| 商品数量     | 4,162,024   |\n",
    "| 商品类目数量 | 9,439       |\n",
    "| 所有行为数量 | 100,150,807 |"
   ]
  },
  {
   "cell_type": "markdown",
   "metadata": {},
   "source": [
    "## 分析目标\n",
    "1. 当日PV、当日UV、日均PV、活跃用户数、交易用户数、活跃用户比例、交易用户比例、用户活跃天数\n",
    "1. 用户活跃时期、时段\n",
    "2. 用户对哪些产品、类目感兴趣\n",
    "3. 用户、行为转化率\n",
    "4. 根据RFM模型对用户分类"
   ]
  },
  {
   "cell_type": "markdown",
   "metadata": {},
   "source": [
    "## 数据准备"
   ]
  },
  {
   "cell_type": "markdown",
   "metadata": {},
   "source": [
    "### 导入数据"
   ]
  },
  {
   "cell_type": "code",
   "execution_count": null,
   "metadata": {
    "ExecuteTime": {
     "end_time": "2020-04-19T04:17:15.667247Z",
     "start_time": "2020-04-19T04:17:14.163882Z"
    },
    "jupyter": {
     "outputs_hidden": true
    }
   },
   "outputs": [],
   "source": [
    "import numpy as np\n",
    "import pandas as pd\n",
    "import matplotlib.pyplot as plt\n",
    "import seaborn as sns\n",
    "from pyecharts import charts as pyc\n",
    "from pyecharts import options as opts\n",
    "import warnings\n",
    "%matplotlib inline\n",
    "# 忽略警告\n",
    "warnings.filterwarnings(\"ignore\")\n",
    "# 解决matplotlib中文乱码\n",
    "plt.rcParams['font.sans-serif'] = ['Microsoft YaHei']\n",
    "plt.rcParams['axes.unicode_minus'] = False\n",
    "# 作图的字体默认设置\n",
    "fontdict = {'fontsize': 15,\n",
    "            'horizontalalignment': 'center'}"
   ]
  },
  {
   "cell_type": "code",
   "execution_count": null,
   "metadata": {
    "ExecuteTime": {
     "end_time": "2020-04-19T04:19:27.011402Z",
     "start_time": "2020-04-19T04:19:23.040796Z"
    }
   },
   "outputs": [],
   "source": [
    "# 数据量过大，这里只选取前1000w行\n",
    "# 根据官网介绍给定列名\n",
    "columns = [\"userid\", 'itemid', 'categoryid', 'type', 'timestamp']\n",
    "# 使用iterator将数据分块，返回迭代器\n",
    "data = pd.read_csv(\"./UserBehavior.csv\", iterator=True,\n",
    "                   chunksize=10000000, names=columns)\n",
    "\n",
    "df = data.get_chunk(10000000)"
   ]
  },
  {
   "cell_type": "code",
   "execution_count": null,
   "metadata": {
    "ExecuteTime": {
     "end_time": "2020-04-19T04:19:27.074459Z",
     "start_time": "2020-04-19T04:19:27.070456Z"
    },
    "cell_style": "split",
    "scrolled": true
   },
   "outputs": [],
   "source": [
    "# 数据的基本信息，共1000万条，前三个字段是int，后两个是object\n",
    "df.info()"
   ]
  },
  {
   "cell_type": "code",
   "execution_count": null,
   "metadata": {
    "ExecuteTime": {
     "end_time": "2020-04-19T04:19:27.143522Z",
     "start_time": "2020-04-19T04:19:27.136517Z"
    },
    "cell_style": "split",
    "scrolled": false
   },
   "outputs": [],
   "source": [
    "# 查看数据前几行信息\n",
    "df.head()"
   ]
  },
  {
   "cell_type": "markdown",
   "metadata": {},
   "source": [
    "### 数据清洗\n",
    "1. 将时间戳转为日期\n",
    "2. 数据集说明中写的是本数据集的日期范围是2017年11月25日至2017年12月3日，所以剔除这日期以外的数据"
   ]
  },
  {
   "cell_type": "code",
   "execution_count": null,
   "metadata": {
    "ExecuteTime": {
     "end_time": "2020-04-19T04:19:32.113046Z",
     "start_time": "2020-04-19T04:19:27.201575Z"
    }
   },
   "outputs": [],
   "source": [
    "import time\n",
    "\n",
    "\n",
    "def get_unixtime(timeStamp):\n",
    "    formatStr = \"%Y-%m-%d %H:%M:%S\"\n",
    "    tmObject = time.strptime(timeStamp, formatStr)\n",
    "    return int(time.mktime(tmObject))\n",
    "\n",
    "\n",
    "startTime = get_unixtime(\"2017-11-25 00:00:00\")\n",
    "endTime = get_unixtime(\"2017-12-03 23:59:59\")\n",
    "\n",
    "# 保留2017年11月25日至2017年12月3日之间的数据\n",
    "df = df[(df.timestamp >= startTime) & (df.timestamp <= endTime)]\n",
    "# 要注意时区问题，pd.to_datetime转换的默认时区不是中国\n",
    "df['datetime'] = pd.to_datetime(\n",
    "    df.timestamp, unit='s', utc=True).dt.tz_convert(\"Asia/Shanghai\")\n",
    "# 删除时间戳节约内存\n",
    "df.drop('timestamp', inplace=True, axis=1)\n",
    "# 将datetime进行拆分成date和hour\n",
    "df['date'] = df.datetime.dt.date\n",
    "df['hour'] = df.datetime.dt.hour"
   ]
  },
  {
   "cell_type": "markdown",
   "metadata": {},
   "source": [
    "## 数据分析"
   ]
  },
  {
   "cell_type": "markdown",
   "metadata": {},
   "source": [
    "### 用户流量类指标\n",
    "1. 2017-11-25至2017-12-03这9天内，用户操作累计浏览详情页8944500次，累计添加购物车559127次，累计收藏产品291657次，累计购买199143次\n",
    "2. 平均每日浏览量993833次，添加购物车62125次，收藏产品32406次，购买22127次\n",
    "3. 总计97,810名用户在这段时间内使用过淘宝app，平均每人浏览91次，添加购物车6次，收藏产品3次，购买2次\n",
    "4. 用户跳失率为5.74%（只看不买的用户占比）,复购率为66.01%\n",
    "5. 相较于浏览->收藏->购买的操作流程，用户更喜欢浏览->加入购物车->购买这种方式，前者的用户转化率为9%而后者为23%\n",
    "6. 从整体用户行为来看89%的操作是浏览商品，只有2%的操作是购买，行为转化率过低\n",
    "7. 付费用户相较于非付费用户人均多贡献了35.84%的PV，也就是说付费用户在淘宝app上的使用时间高于非付费用户，应该建立深度的用户画像，进行商品推荐。"
   ]
  },
  {
   "cell_type": "code",
   "execution_count": null,
   "metadata": {
    "ExecuteTime": {
     "end_time": "2020-04-19T04:19:37.419883Z",
     "start_time": "2020-04-19T04:19:32.402316Z"
    }
   },
   "outputs": [],
   "source": [
    "# 取消科学计数法，保留两位小数\n",
    "pd.set_option(\"float_format\", lambda x: \"%.2f\" % x)\n",
    "\n",
    "# 9天总用户量,有操作记录的商品及类目\n",
    "count_users = df.userid.nunique()\n",
    "count_itemid = df.itemid.nunique()\n",
    "count_categoryid = df.categoryid.nunique()\n",
    "count_user_bought = df[df['type'] == 'buy'].userid.nunique()\n",
    "count_user_nobought = count_users-count_user_bought\n",
    "\n",
    "# 9天总操作记录数\n",
    "types = [\"pv\", \"cart\", \"fav\", \"buy\"]\n",
    "type_s = df.type.value_counts()\n",
    "\n",
    "# 拼接9天所有、日均、人均指标\n",
    "type_df = pd.DataFrame([type_s, type_s/9, type_s / count_users],\n",
    "                       columns=types, index=[\"all\", \"aver_day\", \"aver_user\"])\n",
    "\n",
    "# 购买过的用户总共浏览了几次,购买了几次\n",
    "type_df.loc['user_bought'] = df[df['userid'].isin(\n",
    "    df[df['type'] == 'buy']['userid'].unique())].type.value_counts()\n",
    "\n",
    "# 没有购买过的用户总共浏览了几次购买了几次\n",
    "type_df.loc['user_nobought'] = type_df.loc['all']-type_df.loc['user_bought']"
   ]
  },
  {
   "cell_type": "code",
   "execution_count": null,
   "metadata": {
    "ExecuteTime": {
     "end_time": "2020-04-19T04:19:37.496945Z",
     "start_time": "2020-04-19T04:19:37.489939Z"
    },
    "cell_style": "split",
    "scrolled": true
   },
   "outputs": [],
   "source": [
    "type_df"
   ]
  },
  {
   "cell_type": "code",
   "execution_count": null,
   "metadata": {
    "ExecuteTime": {
     "end_time": "2020-04-19T04:19:37.591031Z",
     "start_time": "2020-04-19T04:19:37.576018Z"
    }
   },
   "outputs": [],
   "source": [
    "t1 = type_df.copy()\n",
    "t1.index=['总计','平均每日','平均每用户','付费用户','非付费用户']\n",
    "t1.columns=['浏览量','加入购物车','收藏','购买']\n",
    "t1"
   ]
  },
  {
   "cell_type": "code",
   "execution_count": null,
   "metadata": {
    "ExecuteTime": {
     "end_time": "2020-04-19T05:04:34.591085Z",
     "start_time": "2020-04-19T05:04:34.585080Z"
    },
    "cell_style": "center",
    "scrolled": false
   },
   "outputs": [],
   "source": [
    "print(f\"UV：{count_users}\")\n",
    "print(f\"付费用户数：{count_user_bought}\")\n",
    "print(f\"付费用户占比：{count_user_bought/count_users*100:.2f}%\")\n",
    "print(f\"商品数：{count_itemid}\")\n",
    "print(f\"类目数：{count_categoryid}\")\n",
    "# 非付费用户是否比付费用户贡献了更多的PV？\n",
    "print(f\"付费用户人均贡献PV：{type_df.loc['user_bought'].pv/count_user_bought:.2f}\")\n",
    "print(f\"非付费用户人均贡献PV：{type_df.loc['user_nobought'].pv/count_user_nobought:.2f}\")\n",
    "print(\n",
    "    f\"付费用户相较于非付费用户人均多贡献了{((type_df.loc['user_bought'].pv/count_user_bought)/(type_df.loc['user_nobought'].pv/count_user_nobought)-1)*100:.2f}%的PV\")"
   ]
  },
  {
   "cell_type": "markdown",
   "metadata": {
    "cell_style": "center"
   },
   "source": [
    "跳失率=只有点击行为的用户/总用户数\n",
    "> 其实真正的跳失率应该是只浏览一个页面就离开的访问次数 / 该页面的全部访问次数，这边只是为了突出这些有待发展的客户\n",
    "\n",
    "复购率=购买2次及以上用户数/总购买用户数\n",
    "> 复购率可以分为按客户计算和按交易计算，这里我采用的是按客户计算。\n",
    "> 一定要确定统计周期，像这个数据的统计周期就是9天"
   ]
  },
  {
   "cell_type": "code",
   "execution_count": null,
   "metadata": {
    "ExecuteTime": {
     "end_time": "2020-04-19T05:04:37.942102Z",
     "start_time": "2020-04-19T05:04:36.277596Z"
    },
    "cell_style": "center"
   },
   "outputs": [],
   "source": [
    "# 将数据按照userid进行分组\n",
    "groupby_userid = df.groupby(by=df.userid)\n",
    "# unstack()可以展开再成为一个dataframe\n",
    "user_type = groupby_userid.type.value_counts().unstack()\n",
    "\n",
    "# 跳失率\n",
    "# user_type.sum(axis=1)对DataFrame进行横向相加，如果一个userid的pv值==横向相加的和，那就表明他只有点击行为，没有购买/加入购物车/收藏的行为\n",
    "only_pv_users = user_type[user_type['pv'] == user_type.sum(axis=1)]\n",
    "# shape返回的是元组（行数，列数），所以用[0]取出行数\n",
    "bounce_rate = only_pv_users.shape[0]/count_users\n",
    "\n",
    "# 复购率\n",
    "user_bought_twice = user_type[user_type['buy'] >= 2].shape[0]\n",
    "user_bought = user_type[user_type['buy'] >= 1].shape[0]\n",
    "repurchase_rate = user_bought_twice/user_bought\n",
    "\n",
    "print(\"跳失率:{:.2f}%\".format(bounce_rate*100))\n",
    "print(\"复购率:{:.2f}%\".format(repurchase_rate*100))"
   ]
  },
  {
   "cell_type": "code",
   "execution_count": null,
   "metadata": {
    "ExecuteTime": {
     "end_time": "2020-04-19T04:18:37.987793Z",
     "start_time": "2020-04-19T04:18:37.978785Z"
    },
    "cell_style": "split",
    "scrolled": true
   },
   "outputs": [],
   "source": [
    "user_type"
   ]
  },
  {
   "cell_type": "markdown",
   "metadata": {
    "ExecuteTime": {
     "end_time": "2020-04-13T05:02:31.229020Z",
     "start_time": "2020-04-13T05:02:31.226017Z"
    }
   },
   "source": [
    "用户转化率\\\n",
    "因为收藏和加入购物车没有必然关系，所以我们可以将用户的行为路径划分为两种来进行分析\\\n",
    "- process1:浏览->收藏->购买\n",
    "- process2:浏览->加入购物车->购买\n",
    "> 因为每种type都有两种可能性，共有4种type，所以其实总共有16种路径"
   ]
  },
  {
   "cell_type": "code",
   "execution_count": null,
   "metadata": {
    "ExecuteTime": {
     "end_time": "2020-04-19T05:09:17.781203Z",
     "start_time": "2020-04-19T05:09:08.190457Z"
    }
   },
   "outputs": [],
   "source": [
    "# 分别将fav和buy的df提取出来\n",
    "pv_df = df[df['type'] == 'pv']\n",
    "fav_df = df[df['type'] == 'fav']\n",
    "buy_df = df[df['type'] == 'buy']\n",
    "cart_df = df[df['type'] == 'cart']\n",
    "# 将fav_df和buy_df合并,得到收藏后购买的用户人数\n",
    "# process1 浏览->收藏->购买\n",
    "pv_fav_df = pd.merge(left=pv_df, right=fav_df, how='inner', on=[\n",
    "    'userid', 'itemid', 'categoryid'], suffixes=('_pv', '_fav'))\n",
    "fav_buy_df = pd.merge(left=fav_df, right=buy_df, how='inner', on=[\n",
    "                      'userid', 'itemid', 'categoryid'], suffixes=('_fav', '_buy'))\n",
    "count_user_pv_fav = pv_fav_df[pv_fav_df.datetime_pv <\n",
    "                              pv_fav_df.datetime_fav].userid.nunique()\n",
    "count_user_fav_buy = fav_buy_df[fav_buy_df.datetime_fav <\n",
    "                                fav_buy_df.datetime_buy].userid.nunique()\n",
    "# process2 浏览->添加购物车->购买\n",
    "pv_cart_df = pd.merge(left=pv_df, right=cart_df, how='inner', on=[\n",
    "                      'userid', 'itemid', 'categoryid'], suffixes=('_pv', '_cart'))\n",
    "cart_buy_df = pd.merge(left=cart_df, right=buy_df, how='inner', on=[\n",
    "                       'userid', 'itemid', 'categoryid'], suffixes=('_cart', '_buy'))\n",
    "count_user_pv_cart = pv_cart_df[pv_cart_df.datetime_pv <\n",
    "                                pv_cart_df.datetime_cart].userid.nunique()\n",
    "count_user_cart_buy = cart_buy_df[cart_buy_df.datetime_cart <\n",
    "                                  cart_buy_df.datetime_buy].userid.nunique()\n",
    "\n",
    "# 将数据合并成元组的列表是为了后面用pyecharts画图，如果不画图可以不这样合并\n",
    "process1 = [(\"浏览人数\", count_users), (\"收藏人数\", count_user_pv_fav),\n",
    "            (\"购买人数\", count_user_fav_buy)]\n",
    "process2 = [(\"浏览人数\", count_users), (\"添加购物车人数\", count_user_pv_cart),\n",
    "            (\"购买人数\", count_user_cart_buy)]\n",
    "\n",
    "conversion = pd.DataFrame(data=[[user[1] for user in process1], [user[1] for user in process2]], index=[\n",
    "                          'process1', 'process2'], columns=['pv', 'fav/cart', 'buy'])\n",
    "conversion['pv_fav/cart'] = conversion['fav/cart'].div(conversion['pv'])\n",
    "conversion['fav/cart_buy'] = conversion['buy'].div(conversion['fav/cart'])\n",
    "conversion['pv_buy'] = conversion['buy'].div(conversion['pv'])"
   ]
  },
  {
   "cell_type": "code",
   "execution_count": null,
   "metadata": {
    "ExecuteTime": {
     "end_time": "2020-04-19T05:09:18.033417Z",
     "start_time": "2020-04-19T05:09:18.026410Z"
    },
    "cell_style": "split"
   },
   "outputs": [],
   "source": [
    "# 用户转化率\n",
    "conversion"
   ]
  },
  {
   "cell_type": "code",
   "execution_count": null,
   "metadata": {
    "ExecuteTime": {
     "end_time": "2020-04-19T05:09:18.277639Z",
     "start_time": "2020-04-19T05:09:18.271633Z"
    },
    "cell_style": "split"
   },
   "outputs": [],
   "source": [
    "# 行为转化率\n",
    "\n",
    "type_s/type_s.sum()"
   ]
  },
  {
   "cell_type": "markdown",
   "metadata": {},
   "source": [
    "process1的用户转化率为9%，而process2的用户转化率为23%\n",
    " \n",
    "process1：18%的用户会在浏览后收藏产品，其中只有47%的用户会购买该商品\n",
    "\n",
    "process2：41%的用户会在浏览后把商品添加到购物车，其中有55%的用户会购买该商品\n",
    "\n",
    "无论是从柱状图的高矮、漏斗图的粗细和数据比较我们都可以发现，process2的转化率更高，相较于收藏商品，用户更喜欢在购买商品前将商品放入购物车\n",
    "\n",
    "- 我们从淘宝app的设计来看一下，进入淘宝app后最底下一行很明显就有购物车的选择图标，而要进入收藏必须通过“我的淘宝->收藏夹”进行查看，多一步操作就多一种客户流失的可能性。\n",
    "- 再从两个界面进行考虑，加入购物车的商品很大概率会是用户已经选择好参数的商品（例如衣服尺寸、食品口味、3C产品配置等），点开购物车用户即可看到当初已经选择好的商品的现价（双11前夕我相信剁手党不可能只把商品收藏而不提前加入购物车吧）；而收藏页面显示的只是商品概览（图片、标题、价格等），并没有用户自定义的参数选择，如若客户从收藏页进入再购买，势必又要多几步操作。\n",
    "\n",
    "为什么用户更喜欢在购买前先将商品放入购物车，推测原因：\n",
    "1. 同款产品不同店铺比价\n",
    "2. 凑单满减\n",
    "3. 先放入购物车，等有优惠活动再购买\n",
    "\n",
    "所以可以在商品详情页、商品图品等醒目地方添加提示用户将商品加入购物车的标语，或者添加限时优惠券，让顾客产生购买的紧迫感，刺激消费可能。"
   ]
  },
  {
   "cell_type": "markdown",
   "metadata": {},
   "source": [
    "行为转化率\\\n",
    "89%的操作都是在看，而只有2%的操作进行了购买"
   ]
  },
  {
   "cell_type": "code",
   "execution_count": null,
   "metadata": {
    "ExecuteTime": {
     "end_time": "2020-04-19T05:09:18.726055Z",
     "start_time": "2020-04-19T05:09:18.515856Z"
    },
    "scrolled": false
   },
   "outputs": [],
   "source": [
    "# 行为转化率\n",
    "pyc.Bar().add_xaxis(['pv', 'fav/cart', 'buy']).add_yaxis(series_name=\"process1\", yaxis_data=[int(x) for x in conversion.loc['process1'].values]).add_yaxis(\n",
    "    series_name=\"process2\", yaxis_data=[int(x) for x in conversion.loc['process2'].values]).set_series_opts(label_opts=opts.LabelOpts(is_show=False)).set_global_opts(\n",
    "    title_opts=opts.TitleOpts(\n",
    "        title=\"用户行为转化率\"),\n",
    "    toolbox_opts=opts.ToolboxOpts(is_show=True)\n",
    ").render_notebook()"
   ]
  },
  {
   "cell_type": "code",
   "execution_count": null,
   "metadata": {
    "ExecuteTime": {
     "end_time": "2020-04-15T03:31:34.715143Z",
     "start_time": "2020-04-15T03:31:34.713142Z"
    },
    "cell_style": "center"
   },
   "outputs": [],
   "source": [
    "# 这里就不重复作图了，用一个条形图就可以明显比较转化路径\n",
    "# process1:浏览->收藏->购买\n",
    "# pyc.Funnel(init_opts=opts.InitOpts(width='500px', height='500px')).add(\"type\", process1, label_opts=opts.LabelOpts(position=\"top\"), tooltip_opts=opts.TooltipOpts(is_show=True), gap=5).set_global_opts(title_opts=opts.TitleOpts(title=\"操作转化率\", subtitle=\"process1 浏览->收藏->购买\")).render_notebook()\n",
    "# process2:浏览->加入购物车->购买\n",
    "# pyc.Funnel(init_opts=opts.InitOpts(width='500px', height='500px')).add(\"type\", process2, label_opts=opts.LabelOpts(position=\"top\"), tooltip_opts=opts.TooltipOpts(is_show=True), gap=5).set_global_opts(title_opts=opts.TitleOpts(title=\"操作转化率\", subtitle=\"process2 浏览->添加购物车->购买\")).render_notebook()"
   ]
  },
  {
   "cell_type": "code",
   "execution_count": null,
   "metadata": {
    "ExecuteTime": {
     "end_time": "2020-04-19T05:47:28.485606Z",
     "start_time": "2020-04-19T05:47:27.959128Z"
    }
   },
   "outputs": [],
   "source": [
    "# 用户加入购物车后/收藏产品后多久会购买\n",
    "buy_after_cart = pd.DataFrame(\n",
    "    cart_buy_df.datetime_buy-cart_buy_df.datetime_cart, columns=['interval'])\n",
    "buy_after_fav = pd.DataFrame(\n",
    "    fav_buy_df.datetime_buy-fav_buy_df.datetime_fav, columns=['interval'])\n",
    "# 将timedelta格式转换为小时\n",
    "buy_after_cart['hours'] = buy_after_cart['interval'].map(\n",
    "    lambda x: x.total_seconds()//3600)\n",
    "buy_after_fav['hours'] = buy_after_fav['interval'].map(\n",
    "    lambda x: x.total_seconds()//3600)\n",
    "# 有些用户会先购买，再收藏/加入购物车，再次购买(按照数据来看真的会有这种用户)，所以我们剔除这种先购买再收藏/加入购物车的操作记录\n",
    "# 即删除负值\n",
    "buy_after_cart = buy_after_cart[buy_after_cart['hours'] >= 0]\n",
    "buy_after_fav = buy_after_fav[buy_after_fav['hours'] >= 0]\n",
    "\n",
    "# 因为会出现大量的0小时，就是购买行为和添加购物车/收藏行为不满一小时\n",
    "# 所以我们加个1，这样理解起来就是两种操作是间隔一小时\n",
    "buy_after_cart['hours'] = buy_after_cart['hours']+1\n",
    "buy_after_fav['hours'] = buy_after_fav['hours']+1"
   ]
  },
  {
   "cell_type": "code",
   "execution_count": null,
   "metadata": {
    "ExecuteTime": {
     "end_time": "2020-04-15T04:43:48.687352Z",
     "start_time": "2020-04-15T04:43:48.680347Z"
    },
    "cell_style": "split"
   },
   "outputs": [],
   "source": [
    "buy_after_cart.hours.describe()"
   ]
  },
  {
   "cell_type": "code",
   "execution_count": null,
   "metadata": {
    "ExecuteTime": {
     "end_time": "2020-04-15T04:43:48.773431Z",
     "start_time": "2020-04-15T04:43:48.766426Z"
    },
    "cell_style": "split"
   },
   "outputs": [],
   "source": [
    "buy_after_fav.hours.describe()"
   ]
  },
  {
   "cell_type": "code",
   "execution_count": null,
   "metadata": {
    "ExecuteTime": {
     "end_time": "2020-04-15T04:47:20.179933Z",
     "start_time": "2020-04-15T04:47:20.171926Z"
    },
    "cell_style": "split"
   },
   "outputs": [],
   "source": [
    "buy_after_cart.hours.value_counts(1).sort_index()"
   ]
  },
  {
   "cell_type": "code",
   "execution_count": null,
   "metadata": {
    "ExecuteTime": {
     "end_time": "2020-04-15T04:47:33.392653Z",
     "start_time": "2020-04-15T04:47:33.386648Z"
    },
    "cell_style": "split"
   },
   "outputs": [],
   "source": [
    "buy_after_fav.hours.value_counts(1).sort_index()"
   ]
  },
  {
   "cell_type": "code",
   "execution_count": null,
   "metadata": {
    "ExecuteTime": {
     "end_time": "2020-04-19T05:56:39.308076Z",
     "start_time": "2020-04-19T05:56:39.293053Z"
    }
   },
   "outputs": [],
   "source": [
    "def hour_cat(s):\n",
    "    # 将间隔超过48小时的数据都修改为49\n",
    "    # 自定义间隔时长将数据进行分区（0-1小时设置为1，1-2小时设置为2...以此类推）\n",
    "    bins = [0.0, 1.0, 2.0, 3.0, 6.0, 9.0, 12.0, 24.0, 48.0, np.inf]\n",
    "    labels = [1, 2, 3, 6, 9, 12, 24, 48, 49]\n",
    "    s.where(s <= 48, 49)\n",
    "    s = pd.cut(s, bins=bins, labels=labels)\n",
    "    # 将分类统计百分比，并按照索引升序排序\n",
    "    return s.value_counts(1).sort_index()\n",
    "\n",
    "\n",
    "buy_after_cart_cat = hour_cat(buy_after_cart['hours'])\n",
    "buy_after_fav_cat = hour_cat(buy_after_fav['hours'])"
   ]
  },
  {
   "cell_type": "code",
   "execution_count": null,
   "metadata": {
    "ExecuteTime": {
     "end_time": "2020-04-19T06:02:17.042739Z",
     "start_time": "2020-04-19T06:02:16.728461Z"
    }
   },
   "outputs": [],
   "source": [
    "# 用户不同操作路径的购买间隔\n",
    "# 经过分层的直方图\n",
    "fig = plt.figure(figsize=(15, 6))\n",
    "\n",
    "ax1 = plt.subplot(1, 2, 1)\n",
    "sns.barplot(x=buy_after_cart_cat.index,\n",
    "            y=buy_after_cart_cat.values, color='#3274a1')\n",
    "ax1.set_xlabel(\"用户加入购物车后购买间隔(小时)\", fontdict=fontdict)\n",
    "\n",
    "\n",
    "ax2 = plt.subplot(1, 2, 2)\n",
    "sns.barplot(x=buy_after_fav_cat.index,\n",
    "            y=buy_after_fav_cat.values, color='#ffdb99')\n",
    "ax2.set_xlabel(\"用户收藏后购买间隔(小时)\", fontdict=fontdict)\n",
    "print(\"用户不同操作路径的购买间隔图(分组)\")\n",
    "plt.savefig(\"./1.png\")\n",
    "plt.show()\n"
   ]
  },
  {
   "cell_type": "code",
   "execution_count": null,
   "metadata": {
    "ExecuteTime": {
     "end_time": "2020-04-15T05:43:24.158230Z",
     "start_time": "2020-04-15T05:43:23.885983Z"
    }
   },
   "outputs": [],
   "source": [
    "# 用户不同操作路径的购买间隔\n",
    "# 这是没有经过分层的直方图\n",
    "plt.figure(figsize=(20, 6))\n",
    "fontdict = {'fontsize': 15,\n",
    "            'horizontalalignment': 'center'}\n",
    "\n",
    "ax1 = plt.subplot(1, 2, 1)\n",
    "ax1.hist(buy_after_cart.hours, bins=30, color='#a5c8e1')\n",
    "ax1.set_xlabel(\"用户加入购物车后购买间隔(小时)\", fontdict=fontdict)\n",
    "\n",
    "ax2 = plt.subplot(1, 2, 2)\n",
    "ax2.hist(buy_after_fav.hours, bins=30, color='#ffdb99')\n",
    "ax2.set_xlabel(\"用户收藏后购买间隔(小时)\", fontdict=fontdict)\n",
    "\n",
    "print(\"用户不同操作路径的购买间隔图(未分组)\")\n",
    "plt.show()"
   ]
  },
  {
   "cell_type": "markdown",
   "metadata": {
    "ExecuteTime": {
     "end_time": "2020-04-14T17:25:14.630465Z",
     "start_time": "2020-04-14T17:25:14.627470Z"
    }
   },
   "source": [
    "- 无论是哪一种路径，用户在1小时之内购买的可能性都较大，其中收藏后购买的用户中有45%的用户在收藏后1小时内就下单购买，而加入购物车后再购买的时间间隔明显较长，添加购物车后购买的用户中有超过60%的用户在加入购物车12小时之后再进行购买。\n",
    "- 如有用户收藏或加入购物车后可有立即的客服跟进，例如优惠放送、话术吸引，则则很可能提高用户快速购买的可能性，进一步提高购买转化率。"
   ]
  },
  {
   "cell_type": "markdown",
   "metadata": {},
   "source": [
    "### 每日情况\n",
    "1. 浏览量、收藏数、添加购物车次数、购买次数、用户量在2017/12/02当天急速上升。\n",
    "2. 周末的各项指标都优于周内，周六周日用户尤为活跃，用户有更多的时间可以逛淘宝，所以应当在周六周日当天进行适当的营销活动。\n",
    "3. 每日的活跃用户量基本在70%上下浮动，而成交客户基本维持在20%。\n",
    "3. 这9天内，用户活跃天数呈现正态分布，用户活跃天数主要集中在3-7天（用户当天操作记录达3条算作当天活跃）"
   ]
  },
  {
   "cell_type": "code",
   "execution_count": null,
   "metadata": {
    "ExecuteTime": {
     "end_time": "2020-04-19T06:23:14.502355Z",
     "start_time": "2020-04-19T06:23:05.311998Z"
    }
   },
   "outputs": [],
   "source": [
    "# 首先按照date进行分组\n",
    "import datetime\n",
    "groupby_date = df.groupby(df.date)\n",
    "\n",
    "# 将日期字符串先转为日期格式\n",
    "days = pd.to_datetime(['2017/11/25', '2017/11/26', '2017/11/27', '2017/11/28',\n",
    "                       '2017/11/29', '2017/11/30', '2017/12/01', '2017/12/02', '2017/12/03'])\n",
    "\n",
    "# 将日期作为索引\n",
    "daily_df = pd.DataFrame(data=None, columns=types, index=days)\n",
    "\n",
    "# 通过循环获得每组的统计数据\n",
    "for day in days:\n",
    "    daily_df.loc[day] = groupby_date.get_group(day).type.value_counts()\n",
    "\n",
    "# 我们认为当天使用淘宝app进行3次操作（无论是查看详情页、收藏、加入购物车还是购买都算）的用户就是活跃用户\n",
    "# 自定义活跃用户操作次数基准\n",
    "active_user_standard = 3\n",
    "# 添加每日UV\n",
    "daily_df['uv'] = [groupby_date.get_group(\n",
    "    day).userid.nunique() for day in daily_df.index]\n",
    "# 根据date和userid分组后计算当天操作次数达到基准或以上的用户数作为活跃用户数\n",
    "daily_df['dau'] = [(groupby_date.get_group(day).groupby(by='userid').size(\n",
    ") > active_user_standard).value_counts()[True] for day in daily_df.index]\n",
    "# 活跃用户比例\n",
    "daily_df['au_rate'] = daily_df['dau']/daily_df['uv']\n",
    "# 交易用户数\n",
    "daily_df['buyer'] = df[df['type'] == 'buy'][['date', 'userid']\n",
    "                                            ].groupby(by=['date', 'userid']).size().count(level=0)\n",
    "# 交易用户比例\n",
    "daily_df['buyer_rate'] = daily_df['buyer']/daily_df['uv']\n",
    "# 判断当天是周几\n",
    "daily_df['weekday'] = [datetime.datetime.isoweekday(\n",
    "    datetime.date(x.year, x.month, x.day)) for x in daily_df.index]\n",
    "# 用户活跃天数\n",
    "temp = df[['userid', 'date', 'type']].groupby(by=['date', 'userid']).count()\n",
    "user_active_days_df = temp[temp['type'] > active_user_standard].count(level=1)\n",
    "sorted_user_active_df = user_active_days_df['type'].value_counts().sort_index()"
   ]
  },
  {
   "cell_type": "code",
   "execution_count": null,
   "metadata": {
    "ExecuteTime": {
     "end_time": "2020-04-19T06:23:14.833657Z",
     "start_time": "2020-04-19T06:23:14.822651Z"
    },
    "cell_style": "center",
    "scrolled": true
   },
   "outputs": [],
   "source": [
    "daily_df"
   ]
  },
  {
   "cell_type": "code",
   "execution_count": null,
   "metadata": {
    "ExecuteTime": {
     "end_time": "2020-04-19T06:23:15.137934Z",
     "start_time": "2020-04-19T06:23:15.124922Z"
    },
    "slideshow": {
     "slide_type": "slide"
    }
   },
   "outputs": [],
   "source": [
    "# 用户行为变化趋势图\n",
    "pyc.Line(init_opts=opts.InitOpts(\n",
    "    width='800px', height='600px')).add_xaxis(xaxis_data=daily_df.index.date).add_yaxis(\n",
    "    series_name='浏览量',\n",
    "    y_axis=daily_df.pv, is_selected=True, is_symbol_show=False, is_smooth=False\n",
    ").add_yaxis(\n",
    "    series_name='加入购物车',\n",
    "    y_axis=daily_df.cart, is_selected=True, is_symbol_show=False, is_smooth=False\n",
    ").add_yaxis(\n",
    "    series_name='收藏商品',\n",
    "    y_axis=daily_df.fav, is_selected=True, is_symbol_show=False, is_smooth=False\n",
    ").add_yaxis(\n",
    "    series_name='购买商品',\n",
    "    y_axis=daily_df.buy, is_selected=True, is_symbol_show=False, is_smooth=False\n",
    ").set_global_opts(\n",
    "    title_opts=opts.TitleOpts(\n",
    "        title=\"用户行为变化趋势图\", subtitle=\"2017/11/25-2017/12/03期间用户行为变化趋势\"),\n",
    "    tooltip_opts=opts.TooltipOpts(trigger='axis'),\n",
    "    toolbox_opts=opts.ToolboxOpts(is_show=True),\n",
    "    xaxis_opts=opts.AxisOpts(type_='category', boundary_gap=False)\n",
    ").render_notebook()"
   ]
  },
  {
   "cell_type": "code",
   "execution_count": null,
   "metadata": {
    "ExecuteTime": {
     "end_time": "2020-04-14T17:41:16.574163Z",
     "start_time": "2020-04-14T17:41:16.563161Z"
    }
   },
   "outputs": [],
   "source": [
    "# 用户量变化趋势图\n",
    "pyc.Line(init_opts=opts.InitOpts(\n",
    "    width='800px', height='600px')).add_xaxis(xaxis_data=daily_df.index.date).add_yaxis(\n",
    "    series_name='当日用户数',\n",
    "    y_axis=daily_df.uv, is_selected=True, is_symbol_show=False, is_smooth=False\n",
    ").add_yaxis(\n",
    "    series_name='活跃用户数',\n",
    "    y_axis=daily_df.dau, is_selected=True, is_symbol_show=False, is_smooth=False\n",
    ").add_yaxis(\n",
    "    series_name='交易用户数',\n",
    "    y_axis=daily_df.buyer, is_selected=True, is_symbol_show=False, is_smooth=False\n",
    ").set_global_opts(\n",
    "    title_opts=opts.TitleOpts(\n",
    "        title=\"用户量变化趋势图\", subtitle=\"2017/11/25-2017/12/03期间用户量变化趋势\"),\n",
    "    tooltip_opts=opts.TooltipOpts(trigger='axis'),\n",
    "    toolbox_opts=opts.ToolboxOpts(is_show=True),\n",
    "    xaxis_opts=opts.AxisOpts(type_='category', boundary_gap=False)\n",
    ").render_notebook()"
   ]
  },
  {
   "cell_type": "code",
   "execution_count": null,
   "metadata": {
    "ExecuteTime": {
     "end_time": "2020-04-19T06:08:31.823442Z",
     "start_time": "2020-04-19T06:08:31.812441Z"
    }
   },
   "outputs": [],
   "source": [
    "# 用户量变化趋势图\n",
    "pyc.Line(init_opts=opts.InitOpts(\n",
    "    width='800px', height='600px')).add_xaxis(xaxis_data=daily_df.index.date).add_yaxis(\n",
    "    series_name='当日用户数',\n",
    "    y_axis=daily_df.uv, is_selected=True, is_symbol_show=False, is_smooth=False\n",
    ").add_yaxis(\n",
    "    series_name='活跃用户数',\n",
    "    y_axis=daily_df.dau, is_selected=True, is_symbol_show=False, is_smooth=False\n",
    ").add_yaxis(\n",
    "    series_name='交易用户数',\n",
    "    y_axis=daily_df.buyer, is_selected=True, is_symbol_show=False, is_smooth=False\n",
    ").set_global_opts(\n",
    "    title_opts=opts.TitleOpts(\n",
    "        title=\"用户量变化趋势图\", subtitle=\"2017/11/25-2017/12/03期间用户量变化趋势\"),\n",
    "    tooltip_opts=opts.TooltipOpts(trigger='axis'),\n",
    "    toolbox_opts=opts.ToolboxOpts(is_show=True),\n",
    "    xaxis_opts=opts.AxisOpts(type_='category', boundary_gap=False)\n",
    ").render(\"./2.html\")"
   ]
  },
  {
   "cell_type": "code",
   "execution_count": null,
   "metadata": {
    "ExecuteTime": {
     "end_time": "2020-04-19T06:10:15.863718Z",
     "start_time": "2020-04-19T06:10:15.855711Z"
    }
   },
   "outputs": [],
   "source": [
    "# 用户累计活跃天数分布图\n",
    "pyc.Bar(init_opts=opts.InitOpts(width='800px', height='600px')).add_xaxis(xaxis_data=[int(x) for x in sorted_user_active_df.index]).add_yaxis(series_name='用户活跃天数', yaxis_data=[int(\n",
    "    x) for x in sorted_user_active_df.values]).set_series_opts(label_opts=opts.LabelOpts(is_show=False)).set_global_opts(title_opts=opts.TitleOpts(title=\"用户累计活跃天数分布图\"), toolbox_opts=opts.ToolboxOpts(is_show=True)).render_notebook()"
   ]
  },
  {
   "cell_type": "code",
   "execution_count": null,
   "metadata": {
    "ExecuteTime": {
     "end_time": "2020-04-19T06:10:28.231764Z",
     "start_time": "2020-04-19T06:10:28.222756Z"
    }
   },
   "outputs": [],
   "source": [
    "# 用户累计活跃天数分布图\n",
    "pyc.Bar(init_opts=opts.InitOpts(width='800px', height='600px')).add_xaxis(xaxis_data=[int(x) for x in sorted_user_active_df.index]).add_yaxis(series_name='用户活跃天数', yaxis_data=[int(\n",
    "    x) for x in sorted_user_active_df.values]).set_series_opts(label_opts=opts.LabelOpts(is_show=False)).set_global_opts(title_opts=opts.TitleOpts(title=\"用户累计活跃天数分布图\"), toolbox_opts=opts.ToolboxOpts(is_show=True)).render(\"./3.html\")"
   ]
  },
  {
   "cell_type": "markdown",
   "metadata": {},
   "source": [
    "### 时段情况\n",
    "1. 各时段指标走势大致一致。\n",
    "2. 5:00-10:00及18:00-21:00两段时间是用户活跃度迅速增长的时段。\n",
    "3. 10:00-18:00这个时间段的用户活跃度上下浮动，但基本保持着同一水平。\n",
    "4. 13:00，15:00这两个时间段是用户活跃度稳定阶段的两个小高峰，我们可以猜测13:00是因为用户工作午休结束了拿起手机再摸一会儿鱼造成的，15:00是因为工作了一两个小时又想摸鱼。17:00开始一部分用户下班了或马上下班，可以开始正大光明摸鱼。\n",
    "5. 21:00达到用户活跃度峰值。"
   ]
  },
  {
   "cell_type": "code",
   "execution_count": null,
   "metadata": {
    "ExecuteTime": {
     "end_time": "2020-04-19T06:23:22.009158Z",
     "start_time": "2020-04-19T06:23:17.421991Z"
    }
   },
   "outputs": [],
   "source": [
    "# 根据时段进行分组\n",
    "groupby_hour = df.groupby(by=df.hour)\n",
    "\n",
    "# 创建一个空的时段dataframe\n",
    "# 列表生成式创建一个0-23的时间列表\n",
    "times = [x for x in range(0, 24)]\n",
    "time_df = pd.DataFrame(data=None, index=times, columns=types)\n",
    "\n",
    "for t in times:\n",
    "    time_df.loc[t] = groupby_hour.get_group(t).type.value_counts()\n",
    "time_df['uv'] = [groupby_hour.get_group(\n",
    "    hour).userid.nunique() for hour in times]\n",
    "\n",
    "# 交易用户活跃时段\n",
    "groupby_hour_userid = df[df['type'] == 'buy'][[\n",
    "    'userid', 'hour']].groupby(by=['hour', 'userid'])\n",
    "buyer_hour = groupby_hour_userid.size().count(level=0)"
   ]
  },
  {
   "cell_type": "code",
   "execution_count": null,
   "metadata": {
    "ExecuteTime": {
     "end_time": "2020-04-19T06:23:22.316437Z",
     "start_time": "2020-04-19T06:23:22.306437Z"
    },
    "scrolled": true
   },
   "outputs": [],
   "source": [
    "time_df"
   ]
  },
  {
   "cell_type": "code",
   "execution_count": null,
   "metadata": {
    "ExecuteTime": {
     "end_time": "2020-04-19T06:23:22.629723Z",
     "start_time": "2020-04-19T06:23:22.616711Z"
    }
   },
   "outputs": [],
   "source": [
    "# 绘制折线图\n",
    "pyc.Line(init_opts=opts.InitOpts(\n",
    "    width='800px', height='600px')).add_xaxis(xaxis_data=time_df.index).add_yaxis(\n",
    "    series_name='pv',\n",
    "    y_axis=time_df.pv, is_selected=True, is_symbol_show=False,\n",
    ").add_yaxis(\n",
    "    series_name='cart',\n",
    "    y_axis=time_df.cart, is_selected=True, is_symbol_show=False\n",
    ").add_yaxis(\n",
    "    series_name='fav',\n",
    "    y_axis=time_df.fav, is_selected=True, is_symbol_show=False\n",
    ").add_yaxis(\n",
    "    series_name='buy',\n",
    "    y_axis=time_df.buy, is_selected=True, is_symbol_show=False\n",
    ").set_global_opts(\n",
    "        title_opts=opts.TitleOpts(title=\"用户行为时段分布图\", subtitle=\"用户行为的时段分布情况\"),\n",
    "        tooltip_opts=opts.TooltipOpts(trigger=\"axis\"),\n",
    "        toolbox_opts=opts.ToolboxOpts(is_show=True),\n",
    "        xaxis_opts=opts.AxisOpts(type_=\"category\", boundary_gap=False),\n",
    ").render_notebook()"
   ]
  },
  {
   "cell_type": "code",
   "execution_count": null,
   "metadata": {
    "ExecuteTime": {
     "end_time": "2020-04-19T06:23:22.962025Z",
     "start_time": "2020-04-19T06:23:22.951015Z"
    }
   },
   "outputs": [],
   "source": [
    "# 绘制折线图\n",
    "pyc.Line(init_opts=opts.InitOpts(\n",
    "    width='800px', height='600px')).add_xaxis(xaxis_data=time_df.index).add_yaxis(\n",
    "    series_name='用户量',\n",
    "    y_axis=time_df.uv, is_selected=True, is_symbol_show=False,\n",
    ").add_yaxis(\n",
    "    series_name='交易用户',\n",
    "    y_axis=[int(x) for x in buyer_hour.values], is_selected=True, is_symbol_show=False,\n",
    ").set_global_opts(\n",
    "        title_opts=opts.TitleOpts(title=\"用户活跃时段\", subtitle=\"用户活跃度的时段分布情况\"),\n",
    "        tooltip_opts=opts.TooltipOpts(trigger=\"axis\"),\n",
    "        toolbox_opts=opts.ToolboxOpts(is_show=True),\n",
    "        xaxis_opts=opts.AxisOpts(type_=\"category\", boundary_gap=False),\n",
    ").render_notebook()"
   ]
  },
  {
   "cell_type": "markdown",
   "metadata": {},
   "source": [
    "### 产品/类目情况\n",
    "1. itemid为3122135、3031354等一些商品在这9天内属于热销产品，总订单量都在50单以上。\n",
    "2. 1464116、2735466等类目的是这9天内销售量较高的类目。"
   ]
  },
  {
   "cell_type": "code",
   "execution_count": null,
   "metadata": {
    "ExecuteTime": {
     "end_time": "2020-04-19T06:30:26.732158Z",
     "start_time": "2020-04-19T06:30:19.360447Z"
    }
   },
   "outputs": [],
   "source": [
    "# 按照itemid进行分组\n",
    "groupby_itemid = df.groupby(by='itemid')\n",
    "item_type_df = groupby_itemid.type.value_counts().unstack()\n",
    "item_type_df.replace(to_replace=np.nan, value=0, inplace=True)\n",
    "# 按照categroyid进行分组\n",
    "groupby_categoryid = df.groupby(by='categoryid')\n",
    "cat_type_df = groupby_categoryid.type.value_counts().unstack()\n",
    "# cat_type_df.replace(to_replace=np.nan,value=0,inplace=True)"
   ]
  },
  {
   "cell_type": "code",
   "execution_count": null,
   "metadata": {
    "ExecuteTime": {
     "end_time": "2020-04-19T06:30:27.241621Z",
     "start_time": "2020-04-19T06:30:27.080467Z"
    },
    "cell_style": "split",
    "scrolled": true
   },
   "outputs": [],
   "source": [
    "# 热卖商品top10\n",
    "item_type_df.sort_values(by='buy', ascending=False)[:10]"
   ]
  },
  {
   "cell_type": "code",
   "execution_count": null,
   "metadata": {
    "ExecuteTime": {
     "end_time": "2020-04-19T06:30:27.565916Z",
     "start_time": "2020-04-19T06:30:27.557901Z"
    },
    "cell_style": "split",
    "scrolled": true
   },
   "outputs": [],
   "source": [
    "# 热销类目top10\n",
    "cat_type_df.sort_values(by='buy', ascending=False)[:10]"
   ]
  },
  {
   "cell_type": "code",
   "execution_count": null,
   "metadata": {
    "ExecuteTime": {
     "end_time": "2020-04-19T06:30:27.891204Z",
     "start_time": "2020-04-19T06:30:27.882196Z"
    }
   },
   "outputs": [],
   "source": [
    "item_type_df"
   ]
  },
  {
   "cell_type": "code",
   "execution_count": null,
   "metadata": {
    "ExecuteTime": {
     "end_time": "2020-04-19T06:30:30.767823Z",
     "start_time": "2020-04-19T06:30:28.206500Z"
    },
    "scrolled": false
   },
   "outputs": [],
   "source": [
    "# 看看非付费用户比较爱看哪些产品\n",
    "groupby_itemid_userid = df[~df['userid'].isin(df[df['type'] == 'buy'].userid.unique())][[\n",
    "    'userid', 'itemid', 'type']].groupby(by=['itemid', 'userid'])\n",
    "\n",
    "groupby_itemid_userid.size().count(level=0).sort_values(ascending=False)[:20]"
   ]
  },
  {
   "cell_type": "markdown",
   "metadata": {},
   "source": [
    "对于这些用户经常看而不买的商品，我们可以通过优惠券、红包、返利或是推送更具有性价比的同类商品给用户，促进用户购买"
   ]
  },
  {
   "cell_type": "code",
   "execution_count": null,
   "metadata": {
    "ExecuteTime": {
     "end_time": "2020-04-19T06:30:31.811781Z",
     "start_time": "2020-04-19T06:30:31.079106Z"
    }
   },
   "outputs": [],
   "source": [
    "# 一件商品在被购买前会经过多少次操作(多少次操作才能换来一次购买)\n",
    "item_type_df['behavior_transform'] = [\n",
    "    round(x, 0) for x in item_type_df.sum(axis=1)/item_type_df.buy]"
   ]
  },
  {
   "cell_type": "code",
   "execution_count": null,
   "metadata": {
    "ExecuteTime": {
     "end_time": "2020-04-19T06:57:24.253974Z",
     "start_time": "2020-04-19T06:57:22.482353Z"
    }
   },
   "outputs": [],
   "source": [
    "# 绘制散点图看商品类别\n",
    "# inf类型在这个图不报错\n",
    "plt.figure(figsize=(10, 8))\n",
    "sns.scatterplot(x=item_type_df.behavior_transform,\n",
    "                y=item_type_df.buy, alpha=0.3)\n",
    "\n",
    "plt.xlim(0, 400)\n",
    "plt.xlabel(\"平均操作次数(行为数/购买数)\", fontdict=fontdict)\n",
    "plt.ylabel(\"购买次数\", fontdict=fontdict)\n",
    "plt.title(\"产品类别划分\", fontdict=fontdict)\n",
    "plt.savefig(\"./11.png\")\n",
    "plt.show()"
   ]
  },
  {
   "cell_type": "markdown",
   "metadata": {},
   "source": [
    "- 左上角属于快消/高频/品牌选择少/寡头\n",
    "- 左下角属于低频/贵重/品牌选择少/寡头\n",
    "- 右上角属于快消/高频/品牌选择多\n",
    "- 右下角属于决策慎重/低频/品牌选择多\n",
    "\n",
    "大部分购买行为发生在累计用户行为0-100次，用户喜欢购买的产品分类是属于左下角，要让分布逐渐往右上靠，从平台方考虑可以增加商品大类的专区假设，减少用户搜索对比，提升用户体验。若想让分布先往左上角移动可以考虑建设高频网红专区，或者在用户搜索时首先展示用户购买过或收藏过的品牌/产品。"
   ]
  },
  {
   "cell_type": "code",
   "execution_count": null,
   "metadata": {
    "ExecuteTime": {
     "end_time": "2020-04-19T07:00:18.511589Z",
     "start_time": "2020-04-19T07:00:18.466548Z"
    }
   },
   "outputs": [],
   "source": [
    "# 剔除np.inf查看购买前操作次数\n",
    "behavior_times = item_type_df.behavior_transform.value_counts()\n",
    "behavior_times.drop(np.inf, inplace=True)\n",
    "behavior_times.sort_index(inplace=True)"
   ]
  },
  {
   "cell_type": "code",
   "execution_count": null,
   "metadata": {
    "ExecuteTime": {
     "end_time": "2020-04-19T07:00:19.151165Z",
     "start_time": "2020-04-19T07:00:19.101120Z"
    },
    "scrolled": false
   },
   "outputs": [],
   "source": [
    "pyc.Bar().add_xaxis(\n",
    "    xaxis_data=[int(x) for x in behavior_times.index]).add_yaxis(\n",
    "        series_name='',\n",
    "        yaxis_data=[int(x) for x in behavior_times.values]).set_series_opts(\n",
    "            label_opts=opts.LabelOpts(is_show=False)).set_global_opts(\n",
    "                title_opts=opts.TitleOpts(title=\"购买前平均操作次数分布\"),\n",
    "                toolbox_opts=opts.ToolboxOpts(is_show=True)).render_notebook()"
   ]
  },
  {
   "cell_type": "markdown",
   "metadata": {
    "ExecuteTime": {
     "end_time": "2020-04-15T14:02:11.668047Z",
     "start_time": "2020-04-15T14:02:11.664044Z"
    }
   },
   "source": [
    "两次操作就达成购买行为的占比很高（浏览一次就买），大多数购买前累计操作次数分布在0-100次，累计100次以上操作才换来一次购买行为的产品很多，如果有更详细的数据，例如在网页中埋点记录详情页留存率及用户浏览时长，就可以判断是在哪一阶段造成的用户流失或跳失率高的原因。\n",
    "\n",
    "用户操作多，但是就不买，无外乎价格、质量、评价、产品介绍等方面，虽然说数据不可以成为“皇帝的新衣”，但是让用户产生购买“皇帝新衣”的冲动还是可以考虑的。"
   ]
  },
  {
   "cell_type": "markdown",
   "metadata": {},
   "source": [
    "### RFM模型\n",
    "RFM模型是衡量客户价值和客户创利能力的重要工具和手段。在众多的客户关系管理(CRM)的分析模式中，RFM模型是被广泛提到的。该机械模型通过一个客户的近期购买行为、购买的总体频率以及花了多少钱3项指标来描述该客户的价值状况。\n",
    "- 重要价值客户最近消费时间近，消费频次和消费金额高，必须重点关注并保持住，需要提高用户满意度以及粘性\n",
    "- 重要保持客户最近消费时间远，但消费频次和消费金额高，可以认为是有段日子没有来的忠诚客户，要主动与其联系，关注社群运营\n",
    "- 重要发展客户最近消费时间近，消费金额高，频次低，用户忠诚度不高，但很可能是潜力客户，需要着重发展\n",
    "- 重要挽留客户最近消费时间远，消费金额高，频次低，很可能成为流失用户，应该采取挽留措施\n",
    "\n",
    "在这就不多具体介绍这个模型了，因为数据集缺少交易额，所以这里就只能实现RF模型\n"
   ]
  },
  {
   "cell_type": "code",
   "execution_count": null,
   "metadata": {
    "ExecuteTime": {
     "end_time": "2020-04-19T07:34:19.267368Z",
     "start_time": "2020-04-19T07:34:08.643690Z"
    }
   },
   "outputs": [],
   "source": [
    "# R:Recency最近一次交易日期；F:Frequency频率，交易次数\n",
    "buy_userid_group = df[df['type'] == 'buy'].groupby(by='userid')\n",
    "\n",
    "# 先创建一个空的DataFrame\n",
    "RF = pd.DataFrame(index=buy_userid_group.groups.keys(), columns=['R', 'F'])\n",
    "\n",
    "# 因为这边索引的顺序就是按照groupby之后的顺序，所以直接赋值即可\n",
    "RF['F'] = buy_userid_group.type.value_counts().values\n",
    "RF['last_buy_time'] = buy_userid_group.datetime.max().values\n",
    "\n",
    "# 我们假设获取数据集的第二天进行分析，所以选择2017/12/04为对照日期，保留天数\n",
    "RF['R'] = (pd.to_datetime('2017-12-04')-RF['last_buy_time']).dt.days"
   ]
  },
  {
   "cell_type": "code",
   "execution_count": null,
   "metadata": {
    "ExecuteTime": {
     "end_time": "2020-04-19T07:34:19.504575Z",
     "start_time": "2020-04-19T07:34:19.491565Z"
    },
    "cell_style": "split",
    "scrolled": true
   },
   "outputs": [],
   "source": [
    "# 最近的一次交易记录距离2017/12/04为0天\n",
    "# 即12/03购买相差还不到一天，最远的为9天，平均为2.6天\n",
    "# R我们划分4个区域 0-1,2-3,4-6,7-9,分别得分4，3，2，1\n",
    "RF.R.describe()"
   ]
  },
  {
   "cell_type": "code",
   "execution_count": null,
   "metadata": {
    "ExecuteTime": {
     "end_time": "2020-04-19T07:34:19.735786Z",
     "start_time": "2020-04-19T07:34:19.726786Z"
    },
    "cell_style": "split",
    "scrolled": true
   },
   "outputs": [],
   "source": [
    "# 交易次数最少为1次最多为93次,平均3次\n",
    "# 这里的3次分母是所有购买过商品的用户\n",
    "# 而之前得出的人均购买次数2次分母是所有用户\n",
    "# F划分4个区域 1,2,3,4+，分别得分1，2，3，4\n",
    "RF.F.describe()"
   ]
  },
  {
   "cell_type": "code",
   "execution_count": null,
   "metadata": {
    "ExecuteTime": {
     "end_time": "2020-04-19T07:34:20.029061Z",
     "start_time": "2020-04-19T07:34:19.963993Z"
    }
   },
   "outputs": [],
   "source": [
    "def R_score(x):\n",
    "    if 0 <= x <= 1:\n",
    "        return 4\n",
    "    elif 2 <= x <= 3:\n",
    "        return 3\n",
    "    elif 4 <= x <= 6:\n",
    "        return 2\n",
    "    elif 7 <= x <= 9:\n",
    "        return 1\n",
    "    else:\n",
    "        return 0\n",
    "\n",
    "\n",
    "def F_score(x):\n",
    "    if x == 1:\n",
    "        return 1\n",
    "    elif x == 2:\n",
    "        return 2\n",
    "    elif x == 3:\n",
    "        return 3\n",
    "    elif x >= 4:\n",
    "        return 4\n",
    "    else:\n",
    "        return 0\n",
    "\n",
    "\n",
    "# 根据R,F进行评分\n",
    "RF['R_score'] = RF.R.map(R_score)\n",
    "RF['F_score'] = RF.F.map(F_score)"
   ]
  },
  {
   "cell_type": "code",
   "execution_count": null,
   "metadata": {
    "ExecuteTime": {
     "end_time": "2020-04-19T07:34:20.254258Z",
     "start_time": "2020-04-19T07:34:20.246251Z"
    },
    "cell_style": "split"
   },
   "outputs": [],
   "source": [
    "# F_score平均为2.36，我们取2为中间值来衡量\n",
    "# 这里的F_score和分类模型评价指标的F-score不是一个东西\n",
    "RF.F_score.describe()"
   ]
  },
  {
   "cell_type": "code",
   "execution_count": null,
   "metadata": {
    "ExecuteTime": {
     "end_time": "2020-04-19T07:34:20.500482Z",
     "start_time": "2020-04-19T07:34:20.491475Z"
    },
    "cell_style": "split",
    "scrolled": true
   },
   "outputs": [],
   "source": [
    "# R评分平均为3.02，我们取3为中间值来衡量\n",
    "RF.R_score.describe()"
   ]
  },
  {
   "cell_type": "code",
   "execution_count": null,
   "metadata": {
    "ExecuteTime": {
     "end_time": "2020-04-19T07:34:21.778653Z",
     "start_time": "2020-04-19T07:34:20.718681Z"
    }
   },
   "outputs": [],
   "source": [
    "def user_classfication(tup):\n",
    "    R_score, F_score = tup\n",
    "    if R_score >= 3 and F_score > 2:\n",
    "        return \"重要保持客户\"\n",
    "    elif R_score >= 3 and F_score <= 2:\n",
    "        return \"重要发展客户\"\n",
    "    elif R_score < 3 and F_score > 2:\n",
    "        return \"重要价值客户\"\n",
    "    elif R_score < 3 and F_score <= 2:\n",
    "        return \"重要挽留客户\"\n",
    "    else:\n",
    "        return None\n",
    "\n",
    "\n",
    "RF['user_classification'] = RF[['R_score', 'F_score']].apply(\n",
    "    user_classfication, axis=1)"
   ]
  },
  {
   "cell_type": "code",
   "execution_count": null,
   "metadata": {
    "ExecuteTime": {
     "end_time": "2020-04-19T07:34:22.017863Z",
     "start_time": "2020-04-19T07:34:22.005860Z"
    },
    "cell_style": "center",
    "scrolled": true
   },
   "outputs": [],
   "source": [
    "RF"
   ]
  },
  {
   "cell_type": "code",
   "execution_count": null,
   "metadata": {
    "ExecuteTime": {
     "end_time": "2020-04-19T07:34:22.252076Z",
     "start_time": "2020-04-19T07:34:22.241066Z"
    },
    "cell_style": "split",
    "scrolled": true
   },
   "outputs": [],
   "source": [
    "# 统计用户分类情况\n",
    "RF.user_classification.value_counts()"
   ]
  },
  {
   "cell_type": "code",
   "execution_count": null,
   "metadata": {
    "ExecuteTime": {
     "end_time": "2020-04-19T07:34:22.483288Z",
     "start_time": "2020-04-19T07:34:22.472276Z"
    },
    "cell_style": "split",
    "scrolled": true
   },
   "outputs": [],
   "source": [
    "# 用户分类占比\n",
    "RF.user_classification.value_counts(1)"
   ]
  },
  {
   "cell_type": "markdown",
   "metadata": {},
   "source": [
    "## 总结\n",
    "1. 12/02-12/03相较于其他日期用户活跃度、各指标增长明显，与同样是周末的11/25-11/26形成较大差距，猜测是该周末有运营促销活动相关（应该是临近双十二的预热活动）。\n",
    "2. 5:00-10:00和8:00-21:00是用户活跃度迅速增长的时段，21:00-22:00是一天中用户最活跃时段，且下单量也是最高的，应着重在这个时间段进行营销推广活动。\n",
    "3. 整体用户来看，人均购买次数为2次，而购买过商品的用户人均购买次数3次，复购率高达66%，应考虑拓宽获客渠道，保证产品质量、价格优势及维护老客的同时，要增加新用户量。\n",
    "4. 付费用户相较于非付费用户多贡献了35.84%的PV，所以要对这些活跃用户建立深度的用户画像，进行更精准的商品推荐。\n",
    "5. 55%的用户在加入购物车后会购买商品，实行适当的满减活动，刺激消费者购物车内比价，采取限时优惠券增加用户购买的紧迫感，促成购买行为。47%的用户在收藏后会购买产品，建议在用户收藏后能有优惠、促销提示，促使用户下单。\n",
    "6. 用户在加入购物车或者收藏产品后的一小时内购买商品的概率是最高的，所以建议在用户有前两种操作时立刻有客服跟进，提供优惠放送、话术吸引，帮助用户决策，刺激用户快速下单购买。\n",
    "7. 整体的用户行为转化率只有2%，98%的行为是没有转化为购买的，用户浏览详情页后即流失。建议封面及标题改进，进一步吸引用户提升浏览量，对活动提醒、优惠券及产品详情页进行适当调整，应更加醒目让用户产生购买冲动，以提高转化率。\n",
    "8. itemid为3122135的商品在9天内销售134单，在这份数据中是表现最好的，商家应该针对自己的热销产品建立粉丝群、微信群，实行社群管理，同时保证供应链畅通。\n",
    "9. 大部分商品发生购买前累计用户行为在0-100次之间，要减少用户操作，提升客户购买效率及体验，例如对多次光顾店铺的顾客进行私信推荐、邀请进社群。\n",
    "10. 根据RFM模型对用户分类后发现重要价值客户较少，用户类型主要分布在重要保持客户和重要发展客户。同样的，需要提高社群管理的效率，将重要保持客户和重要发展客户转变为重要价值客户。可采取定期发送文案、赠送优惠券等方式。要抓住用户渴望被认同、提升优越感、爱占便宜等心理进行考虑。"
   ]
  },
  {
   "cell_type": "code",
   "execution_count": null,
   "metadata": {},
   "outputs": [],
   "source": []
  }
 ],
 "metadata": {
  "hide_input": false,
  "kernelspec": {
   "display_name": "Python 3",
   "language": "python",
   "name": "python3"
  },
  "language_info": {
   "codemirror_mode": {
    "name": "ipython",
    "version": 3
   },
   "file_extension": ".py",
   "mimetype": "text/x-python",
   "name": "python",
   "nbconvert_exporter": "python",
   "pygments_lexer": "ipython3",
   "version": "3.7.3"
  },
  "latex_envs": {
   "LaTeX_envs_menu_present": true,
   "autoclose": false,
   "autocomplete": true,
   "bibliofile": "biblio.bib",
   "cite_by": "apalike",
   "current_citInitial": 1,
   "eqLabelWithNumbers": true,
   "eqNumInitial": 1,
   "hotkeys": {
    "equation": "Ctrl-E",
    "itemize": "Ctrl-I"
   },
   "labels_anchors": false,
   "latex_user_defs": false,
   "report_style_numbering": false,
   "user_envs_cfg": false
  },
  "toc": {
   "base_numbering": 1,
   "nav_menu": {},
   "number_sections": false,
   "sideBar": false,
   "skip_h1_title": true,
   "title_cell": "Table of Contents",
   "title_sidebar": "淘宝用户分析",
   "toc_cell": false,
   "toc_position": {
    "height": "919.667px",
    "left": "25px",
    "top": "110px",
    "width": "269px"
   },
   "toc_section_display": true,
   "toc_window_display": true
  },
  "varInspector": {
   "cols": {
    "lenName": 16,
    "lenType": 16,
    "lenVar": 40
   },
   "kernels_config": {
    "python": {
     "delete_cmd_postfix": "",
     "delete_cmd_prefix": "del ",
     "library": "var_list.py",
     "varRefreshCmd": "print(var_dic_list())"
    },
    "r": {
     "delete_cmd_postfix": ") ",
     "delete_cmd_prefix": "rm(",
     "library": "var_list.r",
     "varRefreshCmd": "cat(var_dic_list()) "
    }
   },
   "position": {
    "height": "632.469px",
    "left": "1592.88px",
    "right": "20px",
    "top": "68.9375px",
    "width": "322.5px"
   },
   "types_to_exclude": [
    "module",
    "function",
    "builtin_function_or_method",
    "instance",
    "_Feature"
   ],
   "window_display": true
  },
  "widgets": {
   "application/vnd.jupyter.widget-state+json": {
    "state": {},
    "version_major": 2,
    "version_minor": 0
   }
  }
 },
 "nbformat": 4,
 "nbformat_minor": 4
}
